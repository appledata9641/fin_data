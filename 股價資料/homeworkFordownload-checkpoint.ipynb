{
 "cells": [
  {
   "cell_type": "code",
   "execution_count": 7,
   "id": "b4345628-0fbe-4456-b0c9-e88a010461d8",
   "metadata": {},
   "outputs": [],
   "source": [
    "import pandas as pd \n",
    "import os\n",
    "os.environ['GIT_PYTHON_REFRESH'] = 'quiet'\n"
   ]
  },
  {
   "cell_type": "code",
   "execution_count": 4,
   "id": "515821a9-ffea-4722-a7d9-f19b7fb2ad97",
   "metadata": {},
   "outputs": [],
   "source": [
    "url1=\"https://github.com/chingyuuuuu/fin_data/blob/main/1316.TW.csv\""
   ]
  },
  {
   "cell_type": "code",
   "execution_count": 54,
   "id": "17eb5200-c3d2-48d6-9d11-3f647425fc1b",
   "metadata": {},
   "outputs": [],
   "source": [
    "url= url1+\"2317.TW\"+\".csv\"\n"
   ]
  },
  {
   "cell_type": "code",
   "execution_count": 46,
   "id": "23303d63-13cf-47fd-95af-77fbbb11e1be",
   "metadata": {},
   "outputs": [
    {
     "name": "stdout",
     "output_type": "stream",
     "text": [
      "         Date        Open        High         Low       Close   Adj Close  \\\n",
      "0  2020-01-02  158.779999  160.729996  158.330002  160.619995  154.493835   \n",
      "1  2020-01-03  158.320007  159.949997  158.059998  158.619995  152.570099   \n",
      "2  2020-01-06  157.080002  159.100006  156.509995  159.029999  152.964508   \n",
      "3  2020-01-07  159.320007  159.669998  157.320007  157.580002  151.569794   \n",
      "4  2020-01-08  158.929993  160.800003  157.949997  160.089996  153.984039   \n",
      "\n",
      "     Volume  \n",
      "0  22622100  \n",
      "1  21116200  \n",
      "2  20813700  \n",
      "3  21634100  \n",
      "4  27746500  \n"
     ]
    }
   ],
   "source": [
    "import pandas as pd\n",
    "from io import StringIO\n",
    "import requests\n",
    "\n",
    "url = \"https://github.com/chingyuuuuu/fin_data/raw/main/MSFT.csv\"\n",
    "\n",
    "try:\n",
    "    # 尝试获取 CSV 文件内容\n",
    "    response = requests.get(url)\n",
    "    response.raise_for_status()  # 检查响应状态是否为 200\n",
    "    csv_data = response.text\n",
    "    \n",
    "    # 使用 StringIO 将文本数据转换为文件对象\n",
    "    csv_file = StringIO(csv_data)\n",
    "    \n",
    "    # 尝试读取 CSV 文件\n",
    "    df = pd.read_csv(csv_file)\n",
    "    \n",
    "    # 打印前几行数据\n",
    "    print(df.head())\n",
    "\n",
    "\n",
    "\n",
    "    df.to_csv(r\"C:\\Users\\ADMIN\\Desktop\\HomeWorkForTrade\\priceTrade\\c\\MSFT.csv\", index=False)\n",
    "\n",
    "except pd.errors.ParserError as e:\n",
    "    # 捕获 ParserError 异常并打印错误信息\n",
    "    print(\"ParserError:\", e)\n",
    "\n",
    "    # 如果需要跳过错误行，可以在此处添加代码来处理\n",
    "    # 例如，你可以记录错误的行号，然后跳过这些行继续读取\n",
    "    # 也可以尝试使用其他方法来处理错误的行\n"
   ]
  },
  {
   "cell_type": "code",
   "execution_count": 29,
   "id": "1820cff9-8e44-44e6-a58a-8ea9de96b90e",
   "metadata": {},
   "outputs": [
    {
     "name": "stdout",
     "output_type": "stream",
     "text": [
      "           Date       Open       High        Low      Close  Adj Close  \\\n",
      "0    2020-01-02  91.000000  91.500000  90.300003  90.800003  75.553642   \n",
      "1    2020-01-03  91.400002  92.199997  90.800003  91.599998  76.219315   \n",
      "2    2020-01-06  91.099998  91.099998  90.099998  90.500000  75.304024   \n",
      "3    2020-01-07  90.500000  91.000000  88.300003  89.099998  74.139091   \n",
      "4    2020-01-08  87.900002  88.099998  86.500000  86.500000  71.975670   \n",
      "..          ...        ...        ...        ...        ...        ...   \n",
      "195  2020-10-23  81.199997  81.400002  80.500000  80.699997  70.601540   \n",
      "196  2020-10-26  81.099998  81.099998  80.000000  80.199997  70.164108   \n",
      "197  2020-10-27  79.900002  80.000000  79.400002  80.000000  69.989143   \n",
      "198  2020-10-28  79.400002  79.699997  78.199997  78.300003  68.501877   \n",
      "199  2020-10-29  77.599998  78.199997  76.800003  78.000000  68.239410   \n",
      "\n",
      "       Volume  \n",
      "0    20758722  \n",
      "1    37936877  \n",
      "2    26352522  \n",
      "3    42728140  \n",
      "4    56101121  \n",
      "..        ...  \n",
      "195  18545821  \n",
      "196  14302954  \n",
      "197  16558440  \n",
      "198  32904050  \n",
      "199  30542424  \n",
      "\n",
      "[200 rows x 7 columns]\n"
     ]
    }
   ],
   "source": [
    "print(df.head(200))"
   ]
  },
  {
   "cell_type": "code",
   "execution_count": 39,
   "id": "8fdd8bd7-a81a-4bb1-abd6-a13d8d443824",
   "metadata": {},
   "outputs": [],
   "source": []
  },
  {
   "cell_type": "code",
   "execution_count": 37,
   "id": "dd4a992d-5c48-4222-a107-f4fd1cdccc20",
   "metadata": {},
   "outputs": [
    {
     "ename": "BadCredentialsException",
     "evalue": "401 {\"message\": \"Bad credentials\", \"documentation_url\": \"https://docs.github.com/rest\"}",
     "output_type": "error",
     "traceback": [
      "\u001b[1;31m---------------------------------------------------------------------------\u001b[0m",
      "\u001b[1;31mBadCredentialsException\u001b[0m                   Traceback (most recent call last)",
      "Cell \u001b[1;32mIn[37], line 15\u001b[0m\n\u001b[0;32m     12\u001b[0m g \u001b[38;5;241m=\u001b[39m Github(access_token)\n\u001b[0;32m     14\u001b[0m \u001b[38;5;66;03m# 获取仓库对象\u001b[39;00m\n\u001b[1;32m---> 15\u001b[0m repo \u001b[38;5;241m=\u001b[39m g\u001b[38;5;241m.\u001b[39mget_repo(\u001b[38;5;124mf\u001b[39m\u001b[38;5;124m\"\u001b[39m\u001b[38;5;132;01m{\u001b[39;00mrepo_owner\u001b[38;5;132;01m}\u001b[39;00m\u001b[38;5;124m/\u001b[39m\u001b[38;5;132;01m{\u001b[39;00mrepo_name\u001b[38;5;132;01m}\u001b[39;00m\u001b[38;5;124m\"\u001b[39m)\n\u001b[0;32m     17\u001b[0m \u001b[38;5;66;03m# 获取仓库中所有文件\u001b[39;00m\n\u001b[0;32m     18\u001b[0m contents \u001b[38;5;241m=\u001b[39m repo\u001b[38;5;241m.\u001b[39mget_contents(\u001b[38;5;124m\"\u001b[39m\u001b[38;5;124m\"\u001b[39m)\n",
      "File \u001b[1;32m~\\anaconda3\\Lib\\site-packages\\github\\MainClass.py:433\u001b[0m, in \u001b[0;36mGithub.get_repo\u001b[1;34m(self, full_name_or_id, lazy)\u001b[0m\n\u001b[0;32m    431\u001b[0m \u001b[38;5;28;01mif\u001b[39;00m lazy:\n\u001b[0;32m    432\u001b[0m     \u001b[38;5;28;01mreturn\u001b[39;00m github\u001b[38;5;241m.\u001b[39mRepository\u001b[38;5;241m.\u001b[39mRepository(\u001b[38;5;28mself\u001b[39m\u001b[38;5;241m.\u001b[39m__requester, {}, {\u001b[38;5;124m\"\u001b[39m\u001b[38;5;124murl\u001b[39m\u001b[38;5;124m\"\u001b[39m: url}, completed\u001b[38;5;241m=\u001b[39m\u001b[38;5;28;01mFalse\u001b[39;00m)\n\u001b[1;32m--> 433\u001b[0m headers, data \u001b[38;5;241m=\u001b[39m \u001b[38;5;28mself\u001b[39m\u001b[38;5;241m.\u001b[39m__requester\u001b[38;5;241m.\u001b[39mrequestJsonAndCheck(\u001b[38;5;124m\"\u001b[39m\u001b[38;5;124mGET\u001b[39m\u001b[38;5;124m\"\u001b[39m, url)\n\u001b[0;32m    434\u001b[0m \u001b[38;5;28;01mreturn\u001b[39;00m github\u001b[38;5;241m.\u001b[39mRepository\u001b[38;5;241m.\u001b[39mRepository(\u001b[38;5;28mself\u001b[39m\u001b[38;5;241m.\u001b[39m__requester, headers, data, completed\u001b[38;5;241m=\u001b[39m\u001b[38;5;28;01mTrue\u001b[39;00m)\n",
      "File \u001b[1;32m~\\anaconda3\\Lib\\site-packages\\github\\Requester.py:548\u001b[0m, in \u001b[0;36mRequester.requestJsonAndCheck\u001b[1;34m(self, verb, url, parameters, headers, input)\u001b[0m\n\u001b[0;32m    540\u001b[0m \u001b[38;5;28;01mdef\u001b[39;00m \u001b[38;5;21mrequestJsonAndCheck\u001b[39m(\n\u001b[0;32m    541\u001b[0m     \u001b[38;5;28mself\u001b[39m,\n\u001b[0;32m    542\u001b[0m     verb: \u001b[38;5;28mstr\u001b[39m,\n\u001b[1;32m   (...)\u001b[0m\n\u001b[0;32m    546\u001b[0m     \u001b[38;5;28minput\u001b[39m: Optional[Any] \u001b[38;5;241m=\u001b[39m \u001b[38;5;28;01mNone\u001b[39;00m,\n\u001b[0;32m    547\u001b[0m ) \u001b[38;5;241m-\u001b[39m\u001b[38;5;241m>\u001b[39m Tuple[Dict[\u001b[38;5;28mstr\u001b[39m, Any], Any]:\n\u001b[1;32m--> 548\u001b[0m     \u001b[38;5;28;01mreturn\u001b[39;00m \u001b[38;5;28mself\u001b[39m\u001b[38;5;241m.\u001b[39m__check(\u001b[38;5;241m*\u001b[39m\u001b[38;5;28mself\u001b[39m\u001b[38;5;241m.\u001b[39mrequestJson(verb, url, parameters, headers, \u001b[38;5;28minput\u001b[39m, \u001b[38;5;28mself\u001b[39m\u001b[38;5;241m.\u001b[39m__customConnection(url)))\n",
      "File \u001b[1;32m~\\anaconda3\\Lib\\site-packages\\github\\Requester.py:609\u001b[0m, in \u001b[0;36mRequester.__check\u001b[1;34m(self, status, responseHeaders, output)\u001b[0m\n\u001b[0;32m    607\u001b[0m data \u001b[38;5;241m=\u001b[39m \u001b[38;5;28mself\u001b[39m\u001b[38;5;241m.\u001b[39m__structuredFromJson(output)\n\u001b[0;32m    608\u001b[0m \u001b[38;5;28;01mif\u001b[39;00m status \u001b[38;5;241m>\u001b[39m\u001b[38;5;241m=\u001b[39m \u001b[38;5;241m400\u001b[39m:\n\u001b[1;32m--> 609\u001b[0m     \u001b[38;5;28;01mraise\u001b[39;00m \u001b[38;5;28mself\u001b[39m\u001b[38;5;241m.\u001b[39mcreateException(status, responseHeaders, data)\n\u001b[0;32m    610\u001b[0m \u001b[38;5;28;01mreturn\u001b[39;00m responseHeaders, data\n",
      "\u001b[1;31mBadCredentialsException\u001b[0m: 401 {\"message\": \"Bad credentials\", \"documentation_url\": \"https://docs.github.com/rest\"}"
     ]
    }
   ],
   "source": [
    "from github import Github\n",
    "import pandas as pd\n",
    "\n",
    "# GitHub 仓库信息\n",
    "repo_owner = \"chingyuuuuu\"\n",
    "repo_name = \"fin_data\"\n",
    "\n",
    "# GitHub 访问令牌\n",
    "access_token = \"appledata9641\"\n",
    "\n",
    "# 初始化 GitHub 对象\n",
    "g = Github(access_token)\n",
    "\n",
    "# 获取仓库对象\n",
    "repo = g.get_repo(f\"{repo_owner}/{repo_name}\")\n",
    "\n",
    "# 获取仓库中所有文件\n",
    "contents = repo.get_contents(\"\")\n",
    "\n",
    "# 遍历仓库中的文件\n",
    "for content in contents:\n",
    "    # 判断是否为文件\n",
    "    if content.type == \"file\":\n",
    "        # 获取文件内容\n",
    "        file_content = content.decoded_content.decode(\"utf-8\")\n",
    "        \n",
    "        # 将文件内容写入到本地文件\n",
    "        with open(content.path, \"w\") as file:\n",
    "            file.write(file_content)\n",
    "\n",
    "            # 如果文件是 CSV 格式，可以将内容读取为 DataFrame\n",
    "            if content.path.endswith(\".csv\"):\n",
    "                df = pd.read_csv(file)\n",
    "                print(df.head())\n"
   ]
  },
  {
   "cell_type": "code",
   "execution_count": 34,
   "id": "93bea65c-2586-4ae8-8e11-de1f736f139a",
   "metadata": {},
   "outputs": [
    {
     "name": "stdout",
     "output_type": "stream",
     "text": [
      "Collecting Pygithub\n",
      "  Downloading PyGithub-2.3.0-py3-none-any.whl.metadata (3.8 kB)\n",
      "Requirement already satisfied: pynacl>=1.4.0 in c:\\users\\admin\\anaconda3\\lib\\site-packages (from Pygithub) (1.5.0)\n",
      "Requirement already satisfied: requests>=2.14.0 in c:\\users\\admin\\anaconda3\\lib\\site-packages (from Pygithub) (2.31.0)\n",
      "Requirement already satisfied: pyjwt>=2.4.0 in c:\\users\\admin\\anaconda3\\lib\\site-packages (from pyjwt[crypto]>=2.4.0->Pygithub) (2.4.0)\n",
      "Requirement already satisfied: typing-extensions>=4.0.0 in c:\\users\\admin\\anaconda3\\lib\\site-packages (from Pygithub) (4.9.0)\n",
      "Requirement already satisfied: urllib3>=1.26.0 in c:\\users\\admin\\anaconda3\\lib\\site-packages (from Pygithub) (2.0.7)\n",
      "Collecting Deprecated (from Pygithub)\n",
      "  Downloading Deprecated-1.2.14-py2.py3-none-any.whl.metadata (5.4 kB)\n",
      "Requirement already satisfied: cryptography>=3.3.1 in c:\\users\\admin\\anaconda3\\lib\\site-packages (from pyjwt[crypto]>=2.4.0->Pygithub) (42.0.2)\n",
      "Requirement already satisfied: cffi>=1.4.1 in c:\\users\\admin\\anaconda3\\lib\\site-packages (from pynacl>=1.4.0->Pygithub) (1.16.0)\n",
      "Requirement already satisfied: charset-normalizer<4,>=2 in c:\\users\\admin\\anaconda3\\lib\\site-packages (from requests>=2.14.0->Pygithub) (2.0.4)\n",
      "Requirement already satisfied: idna<4,>=2.5 in c:\\users\\admin\\anaconda3\\lib\\site-packages (from requests>=2.14.0->Pygithub) (3.4)\n",
      "Requirement already satisfied: certifi>=2017.4.17 in c:\\users\\admin\\anaconda3\\lib\\site-packages (from requests>=2.14.0->Pygithub) (2024.2.2)\n",
      "Requirement already satisfied: wrapt<2,>=1.10 in c:\\users\\admin\\anaconda3\\lib\\site-packages (from Deprecated->Pygithub) (1.14.1)\n",
      "Requirement already satisfied: pycparser in c:\\users\\admin\\anaconda3\\lib\\site-packages (from cffi>=1.4.1->pynacl>=1.4.0->Pygithub) (2.21)\n",
      "Downloading PyGithub-2.3.0-py3-none-any.whl (354 kB)\n",
      "   ---------------------------------------- 0.0/354.4 kB ? eta -:--:--\n",
      "   -- ------------------------------------ 20.5/354.4 kB 330.3 kB/s eta 0:00:02\n",
      "   --- ----------------------------------- 30.7/354.4 kB 262.6 kB/s eta 0:00:02\n",
      "   ----- --------------------------------- 51.2/354.4 kB 327.7 kB/s eta 0:00:01\n",
      "   ------------ ------------------------- 112.6/354.4 kB 595.3 kB/s eta 0:00:01\n",
      "   -------------------- ----------------- 194.6/354.4 kB 908.0 kB/s eta 0:00:01\n",
      "   --------------------------------- ------ 297.0/354.4 kB 1.1 MB/s eta 0:00:01\n",
      "   ---------------------------------------- 354.4/354.4 kB 1.1 MB/s eta 0:00:00\n",
      "Downloading Deprecated-1.2.14-py2.py3-none-any.whl (9.6 kB)\n",
      "Installing collected packages: Deprecated, Pygithub\n",
      "Successfully installed Deprecated-1.2.14 Pygithub-2.3.0\n",
      "Note: you may need to restart the kernel to use updated packages.\n"
     ]
    }
   ],
   "source": []
  },
  {
   "cell_type": "code",
   "execution_count": null,
   "id": "f5acf846-1245-44c4-9a68-1d9ba13e5bd4",
   "metadata": {},
   "outputs": [],
   "source": []
  }
 ],
 "metadata": {
  "kernelspec": {
   "display_name": "Python 3 (ipykernel)",
   "language": "python",
   "name": "python3"
  },
  "language_info": {
   "codemirror_mode": {
    "name": "ipython",
    "version": 3
   },
   "file_extension": ".py",
   "mimetype": "text/x-python",
   "name": "python",
   "nbconvert_exporter": "python",
   "pygments_lexer": "ipython3",
   "version": "3.11.7"
  }
 },
 "nbformat": 4,
 "nbformat_minor": 5
}
